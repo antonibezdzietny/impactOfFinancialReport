{
 "cells": [
  {
   "cell_type": "code",
   "execution_count": 1,
   "metadata": {},
   "outputs": [],
   "source": [
    "# For debug mode\n",
    "%load_ext autoreload\n",
    "%autoreload 2"
   ]
  },
  {
   "cell_type": "code",
   "execution_count": 1,
   "metadata": {},
   "outputs": [],
   "source": [
    "wig_list_paths = [\n",
    "    \"../database/company_list/wig_chemia.csv\",\n",
    "    \"../database/company_list/wig_odziez.csv\",\n",
    "    \"../database/company_list/wig_spozywczy.csv\",\n",
    "]"
   ]
  },
  {
   "cell_type": "markdown",
   "metadata": {},
   "source": [
    "### Scraping financial report"
   ]
  },
  {
   "cell_type": "code",
   "execution_count": 39,
   "metadata": {},
   "outputs": [],
   "source": [
    "import pandas as pd\n",
    "import scripts as ds\n",
    "\n",
    "for wig_path in wig_list_paths:\n",
    "    company_list = pd.read_csv(wig_path)[\"TICKER\"].to_list()\n",
    "    ds.Scraper(ds.FinancialReport(company_list)).scrape()"
   ]
  },
  {
   "cell_type": "markdown",
   "metadata": {},
   "source": [
    "### Scraping stock price"
   ]
  },
  {
   "cell_type": "code",
   "execution_count": 18,
   "metadata": {},
   "outputs": [],
   "source": [
    "import yfinance as yf\n",
    "import pandas as pd\n",
    "\n",
    "STOCK_PATH = \"../database/stock_price/\"\n",
    "\n",
    "for wig_path in wig_list_paths:\n",
    "    company_list = pd.read_csv(wig_path)[\"TICKER\"].to_list()\n",
    "    for ticker in company_list:\n",
    "        yaho = yf.Ticker(\"{}.WA\".format(ticker))\n",
    "        history = pd.DataFrame(yaho.history(period=\"max\"))\n",
    "        history.to_csv(\"{}{}.csv\".format(STOCK_PATH, ticker))  "
   ]
  },
  {
   "cell_type": "markdown",
   "metadata": {},
   "source": [
    "### Date"
   ]
  },
  {
   "cell_type": "code",
   "execution_count": 41,
   "metadata": {},
   "outputs": [],
   "source": [
    "import pickle\n",
    "import pandas as pd\n",
    "\n",
    "DATE_PATH = \"../database/financial_report/date/\"\n",
    "\n",
    "def transform_data_format(x: str):\n",
    "    sliced = x.split(\".\")\n",
    "    return \"{}-{}-{}\".format(sliced[2], \n",
    "                             sliced[1].zfill(2), \n",
    "                             sliced[0].zfill(2))  \n",
    "\n",
    "with open(\"{}datePublicationDict\".format(DATE_PATH), 'rb') as f:\n",
    "    dict = pickle.load(f)\n",
    "\n",
    "    \n",
    "for wig_path in wig_list_paths:\n",
    "    company_list = pd.read_csv(wig_path)\n",
    "    for _, rows in company_list.iterrows():\n",
    "        date = list(dict.fromkeys(dict[rows[\"NAME\"]][\"Raport roczny\"]))\n",
    "        date = list(map(transform_data_format, date))\n",
    "        pd.DataFrame({\"Date\": date}).to_csv(\"{}{}.csv\".format(DATE_PATH, rows[\"TICKER\"]))"
   ]
  }
 ],
 "metadata": {
  "kernelspec": {
   "display_name": "venv",
   "language": "python",
   "name": "python3"
  },
  "language_info": {
   "codemirror_mode": {
    "name": "ipython",
    "version": 3
   },
   "file_extension": ".py",
   "mimetype": "text/x-python",
   "name": "python",
   "nbconvert_exporter": "python",
   "pygments_lexer": "ipython3",
   "version": "3.10.12"
  }
 },
 "nbformat": 4,
 "nbformat_minor": 2
}
