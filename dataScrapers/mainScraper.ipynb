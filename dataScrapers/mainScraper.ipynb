{
 "cells": [
  {
   "cell_type": "code",
   "execution_count": 1,
   "metadata": {},
   "outputs": [],
   "source": [
    "# For debug mode\n",
    "%load_ext autoreload\n",
    "%autoreload 2"
   ]
  },
  {
   "cell_type": "code",
   "execution_count": 6,
   "metadata": {},
   "outputs": [],
   "source": [
    "wig_list_paths = [\n",
    "    \"../database/company_list/wig_chemia.csv\",\n",
    "    \"../database/company_list/wig_odziez.csv\",\n",
    "    \"../database/company_list/wig_spozywczy.csv\",\n",
    "]"
   ]
  },
  {
   "cell_type": "markdown",
   "metadata": {},
   "source": [
    "### Scraping financial report"
   ]
  },
  {
   "cell_type": "code",
   "execution_count": 39,
   "metadata": {},
   "outputs": [],
   "source": [
    "import pandas as pd\n",
    "import scripts as ds\n",
    "\n",
    "for wig_path in wig_list_paths:\n",
    "    company_list = pd.read_csv(wig_path)[\"TICKER\"].to_list()\n",
    "    ds.Scraper(ds.FinancialReport(company_list)).scrape()"
   ]
  },
  {
   "cell_type": "markdown",
   "metadata": {},
   "source": [
    "### Scraping stock price"
   ]
  },
  {
   "cell_type": "code",
   "execution_count": 14,
   "metadata": {},
   "outputs": [
    {
     "name": "stderr",
     "output_type": "stream",
     "text": [
      "[*********************100%%**********************]  4 of 4 completed\n",
      "\n",
      "1 Failed download:\n",
      "['PWX']: YFPricesMissingError('$%ticker%: possibly delisted; No price data found  (1d 1925-08-05 -> 2024-07-12)')\n"
     ]
    },
    {
     "name": "stdout",
     "output_type": "stream",
     "text": [
      "$PWX: possibly delisted; No price data found  (1d 1925-08-05 -> 2024-07-12)\n"
     ]
    },
    {
     "name": "stderr",
     "output_type": "stream",
     "text": [
      "[*********************100%%**********************]  13 of 13 completed\n",
      "\n",
      "3 Failed downloads:\n",
      "['CCC', 'MON']: YFTzMissingError('$%ticker%: possibly delisted; No timezone found')\n",
      "['VRG']: YFInvalidPeriodError(\"%ticker%: Period 'max' is invalid, must be one of ['1d', '5d']\")\n",
      "[**********************46%%                      ]  6 of 13 completed"
     ]
    },
    {
     "name": "stdout",
     "output_type": "stream",
     "text": [
      "$IMC: possibly delisted; No price data found  (1d 1925-08-05 -> 2024-07-12)\n",
      "$PPS: possibly delisted; No price data found  (1d 1925-08-05 -> 2024-07-12)\n",
      "$MAK: possibly delisted; No price data found  (1d 1925-08-05 -> 2024-07-12)\n",
      "$AMB: possibly delisted; No price data found  (1d 1925-08-05 -> 2024-07-12)\n"
     ]
    },
    {
     "name": "stderr",
     "output_type": "stream",
     "text": [
      "[*********************100%%**********************]  13 of 13 completed\n",
      "\n",
      "4 Failed downloads:\n",
      "['IMC', 'PPS', 'MAK', 'AMB']: YFPricesMissingError('$%ticker%: possibly delisted; No price data found  (1d 1925-08-05 -> 2024-07-12)')\n"
     ]
    }
   ],
   "source": [
    "import yfinance as yf\n",
    "import pandas as pd\n",
    "\n",
    "\n",
    "\n",
    "company_list = pd.read_csv(wig_list_paths[0])[\"TICKER\"].to_list()\n",
    "yaho = yf.Tickers(company_list)\n",
    "yaho.history(period=\"max\")"
   ]
  }
 ],
 "metadata": {
  "kernelspec": {
   "display_name": "venv",
   "language": "python",
   "name": "python3"
  },
  "language_info": {
   "codemirror_mode": {
    "name": "ipython",
    "version": 3
   },
   "file_extension": ".py",
   "mimetype": "text/x-python",
   "name": "python",
   "nbconvert_exporter": "python",
   "pygments_lexer": "ipython3",
   "version": "3.10.12"
  }
 },
 "nbformat": 4,
 "nbformat_minor": 2
}
