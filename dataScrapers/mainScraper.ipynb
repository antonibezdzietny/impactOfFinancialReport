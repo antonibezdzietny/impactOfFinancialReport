{
 "cells": [
  {
   "cell_type": "code",
   "execution_count": 1,
   "metadata": {},
   "outputs": [],
   "source": [
    "# For debug mode\n",
    "%load_ext autoreload\n",
    "%autoreload 2"
   ]
  },
  {
   "cell_type": "code",
   "execution_count": 1,
   "metadata": {},
   "outputs": [],
   "source": [
    "wig_list_paths = [\n",
    "    \"../database/company_list/wig_chemia.csv\",\n",
    "    \"../database/company_list/wig_odziez.csv\",\n",
    "    \"../database/company_list/wig_spozywczy.csv\",\n",
    "]"
   ]
  },
  {
   "cell_type": "markdown",
   "metadata": {},
   "source": [
    "### Scraping financial report"
   ]
  },
  {
   "cell_type": "code",
   "execution_count": 39,
   "metadata": {},
   "outputs": [],
   "source": [
    "import pandas as pd\n",
    "import scripts as ds\n",
    "\n",
    "for wig_path in wig_list_paths:\n",
    "    company_list = pd.read_csv(wig_path)[\"TICKER\"].to_list()\n",
    "    ds.Scraper(ds.FinancialReport(company_list)).scrape()"
   ]
  },
  {
   "cell_type": "markdown",
   "metadata": {},
   "source": [
    "### Scraping stock price"
   ]
  },
  {
   "cell_type": "code",
   "execution_count": 18,
   "metadata": {},
   "outputs": [],
   "source": [
    "import yfinance as yf\n",
    "import pandas as pd\n",
    "\n",
    "STOCK_PATH = \"../database/stock_price/\"\n",
    "\n",
    "for wig_path in wig_list_paths:\n",
    "    company_list = pd.read_csv(wig_path)[\"TICKER\"].to_list()\n",
    "    for ticker in company_list:\n",
    "        yaho = yf.Ticker(\"{}.WA\".format(ticker))\n",
    "        history = pd.DataFrame(yaho.history(period=\"max\"))\n",
    "        history.to_csv(\"{}{}.csv\".format(STOCK_PATH, ticker))  "
   ]
  },
  {
   "cell_type": "code",
   "execution_count": 16,
   "metadata": {},
   "outputs": [
    {
     "name": "stdout",
     "output_type": "stream",
     "text": [
      "dict_keys(['PKO BP SA', 'Inter Cars SA', 'Bank Handlowy w Warszawie SA', 'Rawlplug SA', 'Wielkopolska Wytwórnia Żywności PROFI SA', 'FAM SA', 'Mediatel SA', 'Capital Partners SA', 'KCI SA', 'Alchemia SA', 'TONSIL SA w upadłości', 'ATM Grupa SA', 'Praterm SA', 'Grupa Onet.pl SA', 'PBG SA  w restrukturyzacji w likwidacji', 'DGA SA', 'ENERGOMONTAŻ-POŁUDNIE SA', 'Instalexport SA', 'Bytom SA', 'Bank Millennium SA', 'BOŚ SA', 'Mondi Świecie SA', 'Polcolorit SA', 'Iławskie Zakłady Drobiarskie EKODROB SA', 'UNIMIL SA', 'PMPG Polskie Media SA', 'Elektrobudowa SA  w upadłości', 'Betacom SA', 'Kompap SA', 'Ferrum SA', 'mBank SA', 'Zakłady Przemysłu Cukierniczego MIESZKO SA', 'INTERIA SA', 'Wasko SA', 'Stalprodukt SA', 'Comp SA', 'Swissmed Centrum Zdrowia SA', 'Advadis SA w upadłości likwidacyjnej', 'Elstar Oils SA', 'Orbis SA', 'Orange Polska SA', 'Rafako SA', 'MDI Energia SA', 'TIM SA', 'Stormm SA', 'MNI SA', 'SOKOŁÓW SA', 'Kogeneracja SA', 'Energoaparatura SA', 'Relpol SA', 'VRG SA', 'KB Dom SA w upadłości', 'Polnord SA', 'Calatrava Capital SA', 'Octava SA', 'BNP Paribas SA (dawny Fortis Bank)', 'NKT Cables SA', 'Krośnieńskie Huty Szkła KROSNO SA', 'Hutmen SA', 'BBI Development SA', 'onesano SA', 'Budopol-Wrocław SA', 'Wikana SA', 'Sanwil Holding SA', 'Wilbo SA', 'Zakłady Chemiczne Permedia SA', 'EC Będzin SA', 'Biuro Syndyka HOWELL SA', 'Hydrobudowa Śląsk SA', 'Fabryka Butli Technicznych MILMET SA', 'DZ Bank Polska SA', 'Colian Holding SA', 'Simple SA', 'ŁDA Invest SA', 'Mangata Holding SA', 'Best SA', 'PBS Finanse SA', 'Kerdos Group SA w restrukturyzacji', 'Odlewnie Polskie SA', 'LUBELSKIE TOWARZYSTWO LEASINGOWE SA', 'Próchnik SA w upadłości', 'Mostostal Warszawa SA', 'Baltic Bridge SA', 'ABG SA', 'Przedsiębiorstwo Produkcyjno-Handlowe Elektromontaż-Export SA', 'ELEKTRIM SA', 'Kutnowskie Zakłady Farmaceutyczne POLFA SA', 'Ideon SA', 'WÓLCZANKA SA', 'Narodowy Fundusz Inwestycyjny FORTUNA SA', 'Soho Development SA', 'Empik Media & Fashion SA', 'Eurocash SA', 'Novavis Group SA', 'Krezus SA', 'Alta SA', 'HUSSAR GRUPPA', 'Elzab SA (przejęty)', 'Ciech SA', 'BICK SA', 'PartnerBud SA w upadłości', 'Atlanta Poland SA', 'Stalprofil SA', 'Dębica SA', 'Fasing SA', 'Amica SA', 'Fabryka Kosmetyków POLLENA-EWA SA', 'Midas SA', 'Zakłady Remontowe Energetyki Warszawa SA', 'Mostostal Płock SA', 'Deutsche Bank PBC SA', 'Plast-Box SA', 'Towarzystwo Ubezpieczeń i Reasekuracji WARTA SA', 'Huta Szkła Gospodarczego IRENA SA', 'PEKAES SA', 'Imperio ASI SA', 'Protektor SA', 'Mennica Polska SA', 'KGHM Polska Miedź SA', 'Kruszwica SA', 'Stalexport Autostrady SA', 'Wawel SA', 'Synthos SA', 'Talex SA', 'PME SA', 'Szczecińskie Przedsiębiorstwo Budownictwa Przemysłowego SA', 'Alterco SA', 'Rafamet SA', 'Lubelskie Zakłady Przemysłu Spirytusowego Polmos SA', 'ERG SA', 'Centrum Leasingu i Finansów CLIF SA', 'Zakłady Mebli Giętych Fameg SA', 'Zelmer SA', 'W.KRUK SA', 'Pepees SA', 'Fortum Wrocław SA', 'Przedsiębiorstwo Farmaceutyczne Jelfa SA', 'CD Projekt SA', 'Zakłady Automatyki POLNA SA', 'PHS Hydrotor SA', 'CNT SA', 'Sanok Rubber Company SA', 'Wistil SA', 'PJP Makrum SA', 'Artman SA', 'Agora SA', 'Remak-Energomontaż SA', 'ATM SA', 'Neuca SA', 'Novita SA', 'Zachodni Fundusz Inwestycyjny NFI SA', 'Drozapol-Profil SA', 'Rovese SA', 'ZPUE SA', 'Mostostal Gdańsk SA', 'ING Bank Śląski SA', 'Grupa Kapitałowa INWEST SA', 'Paged SA', 'Impexmetal SA', 'Grupa Kęty SA', 'Bank Pekao SA', 'Spin SA', 'Macrologic SA', 'Złomrex SA', 'Ceramika Nowa Gala SA', 'Bioton SA', 'Santander Bank Polska SA', 'Grupa Żywiec SA', 'MCI Capital ASI SA', 'Towarzystwo Ubezpieczeń Europa SA', 'Alma Market SA w restrukturyzacji', 'Pfleiderer Group SA', 'LPP SA', 'Swarzędz Meble SA', 'Less SA', 'Indykpol SA', 'Emax SA', 'Bank BPH SA', 'Apator SA', 'Budimex SA', 'Wydawnictwa Szkolne i Pedagogiczne SA', 'Fon SE', 'Zakład Elektroniki Górniczej ZEG SA', 'Boryszew SA', 'Sygnity SA', 'WDX SA', 'Getin Holding SA', 'Gobarto SA', 'POLIGRAFIA SA', 'Kredyt Bank SA', 'JC Auto SA', 'Wielkopolskie Fabryki Mebli SA', 'Asseco Poland SA', 'Yawal SA', 'Cognor Holding SA', 'NAFTOBUDOWA SA', 'ZM Ropczyce SA', 'Nordea Bank Polska SA', 'Instal Kraków SA', 'Graal SA', 'Redan SA', 'Broker FM SA', 'Orlen SA', 'Kofola SA', 'Lark.pl SA', 'Gremi Inwestycje SA', 'Jupiter SA', 'GTC SA', 'Pelion SA', 'Netia SA', 'CCC SA', 'Prochem SA', 'Lubawa SA', 'MSX Resources SA', 'Computer Service Support SA', 'Provimi-Rolimpex SA', 'PROSPER SA', 'Echo Investment SA', 'Triton Development SA', 'Magna Polonia SA', 'TECHMEX SA', 'ORFE SA', 'Lentex SA', 'Suwary SA', 'Farmacol SA', 'Polifarb Cieszyn Wrocław SA', 'Ulma Construccion Polska SA', 'Primetech SA', 'Mostostal Zabrze SA', 'Śnieżka SA', 'Muza SA', 'Polimex Mostostal SA', 'Efekt SA', 'Fabryki Mebli Forte SA', 'Emperia Holding SA', 'Impel SA', 'TVN SA', 'Energomontaż-Północ SA', 'Comarch SA', 'Prokom Software SA', 'Anica System SA', 'Polenergia SA', 'AmRest Holdings SE', 'Ostrowski Zakład Ciepłowniczy SA', 'Sfinks Polska SA', 'Przedsiębiorstwo Polmos Białystok SA', 'Pekabex SA', 'Grupa Lotos SA', 'LC SA', 'International Trading and Investments Holdings SA Luxembourg', 'Ambra SA', 'Elkop SE', 'Gant Development SA w upadłości likwidacyjnej', 'Atlantis SE', 'Spray SA', 'PC Guard SA', 'Travelplanet.pl SA', 'Abadon Real Estate SA', 'Neonet SA', 'Decora SA', 'Police SA', 'Lena Lighting SA', 'Intersport Polska SA', 'Firma Handlowa Jago SA', 'Elektrownia Kozienice SA', 'Opoczno SA', 'Puławy SA', 'EMC Instytut Medyczny SA', 'PGNiG SA', 'OEX SA', 'Barlinek SA', 'OT Logistics SA', 'Enea SA', 'TEVA SA', 'Novitus SA', 'Teta SA', 'Toora Poland SA', 'Pekao Bank Hipoteczny SA', 'North Coast SA', 'Cash Flow SA', 'Pamapol SA', 'Bankier.pl SA', 'Ergis SA', 'Qumak SA w upadłości', 'Gino Rossi SA', 'INC SA', 'eCARD SA', 'Interferie SA', 'Hyperion SA', 'Mispol SA', 'Grenevia SA', 'One-2-One SA', 'Action SA', 'yarrl SA', 'Astarta Holding PLC', 'Euromark Polska SA', 'Dom Development SA', 'Asseco Central Europe a.s.', 'AB SA', 'Netmedia SA', 'IDM SA', 'Multimedia Polska SA', 'Polymetal SA', 'Arteria SA', 'Bakalland SA', 'Procad SA', 'LSI Software SA', 'Herkules SA', 'B3System SA', 'HTL-Strefa SA', 'Monnari Trade SA', 'RUCH SA', 'Eurotel SA', 'Fota SA w upadłości układowej', 'Infovide-Matrix SA', 'Miraculum SA', 'ORZEŁ SA', 'Hawe SA w restrukturyzacji', 'Seko SA', 'Elektrotim SA', 'GG Network SA', 'Radpol SA', 'Makarony Polskie SA', 'Pegas Nonwovens SA', 'Helio SA', 'Investment Friends SE', 'GRUPA PSB SA', 'TelForceOne SA', 'Regnon SA w likwidacji', 'ES-System SA', 'Erbud SA', 'NTT System SA', 'PolRest SA', 'PRAGMAGO', 'Armatura Kraków SA', 'ZUK Stąporków SA', 'GK Immobile SA', 'MOJ SA', 'P.A. Nova SA', 'XXStara spółka - Getin Noble Bank SA', 'J.W. Construction Holding SA', 'Kredyt Inkaso SA', 'Komputronik SA', 'ABM Solid SA', 'Petrolinvest SA', 'Mercor SA', 'Automotive Components Europe SA', 'Przedsiębiorstwo Robót Inżynieryjnych POL-AQUA SA', 'Develia SA', 'Krakchemia SA', 'Oponeo.pl SA', 'Global City Holdings NV', 'Bomi SA', 'Arcus SA', 'Quantum Software SA', 'Energoinstal SA', 'BFF Polska S.A.', 'Silvano Group AS', 'Grupa Duon SA', 'Izolacja Jarocin SA', 'Rainbow Tours SA', 'Devoteam SA', 'PGF Polska Grupa Fotowoltaiczna SA', 'Hydrobudowa Polska SA', 'Pani Teresa Medica SA', 'Zakłady Naprawcze Taboru Kolejowego w Łapach SA', 'KPPD SA', 'ASBISc Enterprises plc.', 'RONSON', 'Integer.pl SA', 'Orzeł Biały SA', 'Introl SA', 'Sovereign Capital SA', 'Bipromet SA', 'CI Games SE', 'Nepentes SA', 'Konsorcjum Stali SA', 'Prima Moda SA', 'Redwood Holding SA w upadłości', 'Drop SA', 'Wielton SA', 'Asseco BS SA', 'Ursus SA w upadłości', 'Europejski Fundusz Hipoteczny SA', 'Reinhold Europe AB', 'Seco/Warwick SA', 'Optopol Technology SA', 'Atlas Estates Ltd.', 'Starhedge SA', 'Larq SA', 'Wojas SA', 'Investment Friends Capital SE', 'iFirma SA', 'Zremb-Chojnice SA', 'Aplitt SA', 'Trakcja SA', 'Cyfrowy Polsat SA', 'Selena FM SA', 'Skyline Investment SA', 'Fabrity Holding SA', 'Unibep SA', 'Drewex SA w restrukturyzacji', 'Compremum SA', 'Polskie Jadło SA', 'British Automotive Holding SA w upadłości', 'Grupa Azoty SA', 'Sonel SA', 'Clean&Carbon Energy SA', 'Resbud SE', 'PZ Cormay SA', 'ManyDev Studio SE', 'Greeneco SA', 'Mirbud SA', 'Chemoservis-Dwory SA w upadłości', 'M.W. Trade SA', 'PIECOBIOGAZ SPÓŁKA AKCYJNA', 'Centrum Klima SA', 'Bumech SA', 'Atrem SA', 'ZM Henryk Kania SA w upadłości', 'Electus SA', 'GPM Vindexus SA', 'Aplisens SA', 'Internity SA', 'LW Bogdanka SA', 'Ipopema Securities SA', 'Asseco SEE SA', 'Delko SA', 'Patentus SA', 'Arctic Paper SA', 'PGE SA', 'Aqua SA', 'PCC Intermodal SA', 'LEASCO SA', 'CFI Holding SA', 'Ferro SA', 'Eko Holding SA', 'Fast Finance SA w restrukturyzacji', 'Berling SA', 'Dolnośląskie Surowce Skalne SA', 'PZU SA', 'NPL Nova SA', 'IndygoTech Minerals SA w likwidacji', 'Bank Gospodarstwa Krajowego', 'Tesgas SA', 'Serinus Energy plc', 'Vicis New Investments SA', 'Tauron PE SA', 'OPTeam SA', 'Harper Hygienics SA', 'Rank Progress SA', 'ED Invest SA', 'GPW SA', 'Fortuna Entertainment Group NV', 'ZPC Otmuchów SA', 'Robyg SA', 'Interbud-Lublin SA', 'ZUE SA', 'Krynicki Recykling SA', 'Polmed SA', 'Eko Export SA', 'Votum SA', 'AR Packaging Poznań SA', 'Megaron SA', 'Inpro SA', 'CPD SA', 'EuCO SA w restrukturyzacji', 'Izostal SA', 'Wadex SA', 'Digital Network SA', 'Trans Polonia SA', 'B.A.C.D. SA', 'Topmedical SA', 'Quercus TFI SA', 'Milkiland Foods PLC', 'Kino Polska TV SA', 'Avia Solutions Group AB', 'Euroimplant SA', 'Benefit Systems SA', 'Sadovaya Group SA', 'Dolnośląskie Centrum Deweloperskie SA', 'Satis Group SA', 'Open Finance SA w upadłości', 'Kruk SA', 'PBO Anioła SA w upadłości likwidacyjnej', 'Libet SA', 'IMC S.A.', 'Enefi plc.', 'AC SA', 'BNP Paribas Bank Polska SA', 'JHM Development SA', 'Toya SA', 'BluGo SA', 'PCC Rokita SA', 'Reino Capital SA', 'Centrum Medyczne Enel-Med SA', 'JSW  SA', 'AUGA Group AB', 'Raen SA', 'Zamet SA', 'PGO SA', 'Getin Noble Bank SA', 'Bowim SA', 'Vantage Development SA', 'Gi Group Poland SA', '3R Games SA', 'Solar Company SA', 'Mo-Bruk SA', 'Mex Polska SA', 'PCC Exol SA', 'Atende SA', 'Voxel SA', 'ZE PAK SA', 'Czerwona Torebka SA', 'Alior Bank SA', 'PHN SA', 'Przedsiębiorstwo Handlu Zagranicznego Baltona SA', 'Mabion SA', 'Feerum SA', 'Depend SA', 'Tarczyński SA', 'Wise Finance SA', 'Dr. Miele Cosmed Group SA', 'SCO-PAK SA', 'New Tech Capital SA', 'e-Kancelaria Grupa Prawno-Finansowa SA w upadłości układowej', 'MLP Group SA', 'PKP Cargo SA', 'Peixin International Group NV', 'MFO SA', 'Medicalgorithmics SA', 'Energa SA', 'Capital Park SA', 'Elemental Holding SA', 'Mercator Medical SA', 'Vistal Gdynia SA', 'Newag SA', 'DTP SA', 'Prime Car Management SA', 'Comperia.pl SA', 'CUBE.ITG SA w restrukturyzacji', 'Text SA', 'ONE SA', 'Torpol SA', 'JJ Auto AG', 'Altus SA', 'Interma Trade SA w likwidacji', 'Alumetal SA', 'Polwax SA', 'IMS SA', 'CDRL SA', 'Synektik SA', 'Termo-Rex SA', 'Nexity Global SA', 'Skarbiec Holding SA', 'Synthaverse SA', 'Dekpol SA', 'Vigo Photonics SA', 'Ryvu Therapeutics SA', 'GHELAMCO INVEST', 'Indata SA w upadłości', 'Private Equity Managers SA', 'Idea Bank SA', 'Uniwheels AG', 'WP Holding SA', 'Izoblok SA', 'Esotiq&Henderson SA', 'Sunex SA', 'Atal SA', 'Braster SA', 'Wittchen SA', 'InPost SA', 'APS Energia SA', 'Adiuvo Investments SA', 'Ailleron SA', 'AAT Holding SA', 'Grodno SA', 'City Service SE', 'Black Pearl SA', 'Labo Print SA', 'Krynica Vitamin SA', 'PKO BANK HIPOTECZNY SA', 'Kofola ČeskoSlovensko a.s.', 'Lokum Deweloper SA', 'KGL SA', 'Digitree Group SA', 'Orion Investment SA', 'Enter Air SA', '11 bit studios SA', 'Archicom SA', 'Master Pharm SA', 'PBKM SA', 'XTB SA', 'Gekoplast SA', 'Airway Medix SA', 'Mediacap SA', 'i2 Development SA', 'Auto Partner SA', 'Vivid Games SA', 'PGS Software SA', 'ASM Group SA', 'PlayWay SA', 'Biuro Inwestycji Kapitałowych SA', 'Celon Pharma SA', 'Artifex Mundi SA', 'Stelmet SA', 'TXM SA w upadłości', 'Unimot SA', 'All in! Games SA', 'Dino Polska SA', 'Capitea SA', 'Globalworth Poland Real Estate NV', 'JWW Invest SA', 'POLSKI BANK SPÓŁDZIELCZY W CIECHANOWIE', 'MBANK HIPOTECZNY', 'Play Communications SA', 'KSG Agro S.A.', 'MZN Property SA', 'Maxcom SA', 'Unfold.vc ASI SA', 'NanoGroup SA', 'Cyber_Folks SA', 'Unified Factory SA', 'Marvipol Development SA', 'Molecure SA', 'Tower Investments SA', 'Hollywood SA', 'Ten Square Games SA', 'Sescom SA', 'ML System SA', 'T-Bull SA', 'Silvair Inc.', 'XTPL SA', 'DataWalk SA', 'Pharmena SA', 'BoomBit SA', 'Ultimate Games SA', 'HM Inwest SA', 'Selvita SA', 'ING BANK HIPOTECZNY SA', 'Games Operators SA', 'Gaming Factory SA', 'Allegro.eu S.A.', 'Pure Biologics SA', 'Dadelo SA', 'Huuuge, Inc.', 'Medinice SA', 'PCF Group SA', 'Answear.com SA', 'Creepy Jar SA', 'Captor Therapeutics SA', 'Brand24 SA', 'Vercom SA', 'Onde SA', 'Shoper SA', 'Cavatina Holding SA', 'Poltreg SA', 'Plaza Centers NV', 'Big Cheese Studio SA', 'Bio Planet SA', 'Grupa Pracuj SA', 'STS Holding SA', 'BioMaxima SA', 'SpyroSoft SA', 'Ovostar Union NV', 'Bioceltix SA', 'Creotech Instruments SA', 'Caspar AM SA', 'SimFabric SA', 'TenderHut SA', 'Scope Fluidics SA', 'Cloud Technologies SA', 'Passus SA', 'OLIVIA FIN', 'Movie Games SA', 'Genomtec SA', 'Columbus Energy SA', 'DB Energy SA', 'Urteste SA', 'GreenX Metals Ltd.', 'Drago entertainment SA', 'XPlus SA', 'JR Holding ASI SA', 'CPI FIM SA', 'Murapol SA', 'Bloober Team SA', 'Woodpecker.co SA', 'Render Cube SA'])\n",
      "['19.6.2008', '30.4.2009', '30.4.2010', '21.3.2011', '20.3.2012', '21.3.2013', '21.3.2014', '16.3.2015', '11.3.2016', '28.4.2017', '19.4.2018', '25.4.2019', '8.4.2020', '15.4.2021', '15.4.2021', '27.4.2022', '27.4.2022', '28.4.2022', '28.4.2022', '30.3.2023', '30.3.2023', '29.4.2024', '29.4.2024']\n",
      "['2.4.2012', '19.3.2013', '10.3.2014', '18.3.2015', '16.3.2016', '7.3.2017', '8.3.2018', '18.3.2019', '19.3.2020', '16.3.2021', '16.3.2021', '16.3.2022', '16.3.2022', '20.3.2023', '20.3.2023', '20.3.2024', '20.3.2024']\n",
      "['7.4.2006', '20.4.2007', '29.4.2008', '6.6.2008', '29.4.2009', '31.3.2010', '31.3.2011', '20.3.2012', '21.3.2013', '21.3.2014', '16.3.2015', '11.3.2016', '28.4.2017', '19.4.2018', '25.4.2019', '8.4.2020', '15.4.2021', '15.4.2021', '27.4.2022', '27.4.2022', '30.3.2023', '30.3.2023', '29.4.2024', '29.4.2024']\n",
      "['18.3.2015', '30.2.2016', '1.3.2016', '28.3.2017', '5.4.2018', '9.4.2019', '5.5.2020', '22.4.2021', '12.4.2022', '13.4.2023', '11.4.2024']\n",
      "['14.4.2005', '15.5.2006', '5.6.2007', '30.4.2008', '30.4.2009', '30.4.2010', '22.4.2011', '27.4.2012', '30.4.2013', '30.4.2014', '30.4.2015', '29.4.2016', '28.4.2017', '26.3.2018', '14.3.2019', '6.3.2020', '18.5.2021', '19.5.2021', '20.4.2022', '20.4.2022', '17.4.2023', '17.4.2023', '5.4.2024', '5.4.2024']\n",
      "['20.3.2015', '18.3.2016', '20.3.2017', '20.3.2018', '8.4.2019', '27.3.2020', '15.4.2021', '25.3.2022', '25.3.2022', '28.4.2023', '28.4.2023', '29.3.2024', '29.3.2024']\n",
      "['21.3.2016', '25.4.2017', '5.4.2018', '17.4.2019', '30.6.2020', '30.4.2021', '27.4.2022', '27.4.2022', '27.4.2023', '27.4.2023', '24.4.2024', '24.4.2024']\n",
      "['21.3.2011', '16.3.2012', '21.3.2013', '21.3.2014', '20.3.2015', '7.3.2017', '31.7.2018', '31.7.2019', '30.9.2020', '30.7.2021', '29.7.2022', '30.4.2024']\n",
      "['29.5.2007', '2.6.2008', '30.4.2009', '30.4.2009', '22.3.2010', '21.3.2011', '20.3.2012', '21.3.2013', '21.3.2014', '20.3.2015', '18.3.2016', '31.3.2017', '10.4.2018', '27.6.2019', '31.8.2020', '21.7.2021', '15.7.2022', '27.7.2023']\n",
      "['20.4.2005', '27.4.2006', '27.4.2006', '27.4.2007', '25.4.2008', '28.4.2009', '22.4.2010', '20.4.2011', '26.4.2012', '25.4.2013', '17.4.2014', '22.4.2016', '11.5.2016', '11.4.2017', '14.3.2018', '11.4.2019', '21.5.2020', '29.4.2021', '20.4.2022', '20.4.2022', '26.4.2023', '26.4.2023', '27.3.2024', '27.3.2024']\n",
      "['29.4.2005', '24.4.2006', '31.5.2007', '14.4.2008', '10.4.2009', '22.3.2010', '2.5.2011', '25.4.2012', '30.4.2013', '30.4.2014', '30.4.2015', '2.5.2016', '26.4.2017', '26.4.2018', '25.4.2019', '29.4.2020', '29.4.2021', '29.4.2021', '28.4.2022', '28.4.2022', '27.4.2023', '27.4.2023', '25.4.2024', '25.4.2024']\n",
      "['31.5.2007', '30.5.2008', '30.4.2009', '30.4.2010', '2.6.2010', '21.4.2011', '30.3.2012', '20.3.2013', '21.3.2013', '21.3.2014', '23.3.2014', '23.3.2015', '21.3.2016', '21.4.2017', '15.3.2018', '8.4.2019', '24.4.2020', '24.4.2020', '23.4.2021', '22.4.2022', '21.4.2023', '19.4.2024']\n",
      "['25.4.2007', '25.4.2008', '30.4.2009', '30.4.2010', '2.5.2011', '30.4.2012', '16.4.2013', '14.4.2014', '10.4.2015', '25.4.2017', '24.4.2018', '26.4.2019', '15.5.2020', '30.4.2021', '5.5.2021', '2.5.2022', '2.5.2022', '8.10.2022', '8.10.2022', '28.4.2023', '28.4.2023', '26.4.2024', '26.4.2024']\n",
      "['25.3.2005', '28.4.2006', '29.3.2007', '11.4.2008', '30.4.2009', '30.4.2010', '29.4.2011', '30.4.2012', '30.4.2013', '30.4.2014', '30.4.2015', '29.4.2016', '28.4.2017', '29.4.2018', '30.4.2019', '25.6.2019', '9.5.2020', '30.4.2021', '29.4.2022', '29.4.2022', '28.4.2023', '28.4.2023', '31.4.2024', '31.4.2024', '1.5.2024', '1.5.2024']\n",
      "['6.5.2005', '19.5.2006', '6.6.2007', '29.5.2008', '30.4.2009', '3.6.2009', '30.4.2010', '29.4.2011', '30.4.2012', '30.4.2013', '29.4.2014', '24.4.2015', '25.4.2016', '2.5.2017', '29.4.2018', '30.4.2019', '20.5.2020', '30.4.2021', '29.4.2022', '29.4.2022', '21.4.2023', '21.4.2023', '24.4.2024', '24.4.2024']\n",
      "['29.4.2005', '28.4.2006', '5.6.2007', '10.6.2008', '30.4.2009', '22.3.2010', '21.3.2011', '20.3.2012', '21.3.2013', '20.3.2014', '17.3.2015', '21.3.2016', '14.3.2017', '21.3.2018', '19.3.2019', '31.3.2020', '16.4.2021', '8.4.2022', '8.4.2022', '4.4.2023', '4.4.2023', '11.4.2024', '11.4.2024']\n",
      "['17.3.2016', '30.3.2017', '29.3.2018', '28.3.2019', '26.3.2020', '27.4.2021', '13.4.2022', '13.4.2022', '20.4.2023', '20.4.2023', '25.4.2023', '25.4.2023', '18.4.2024', '18.4.2024']\n",
      "['25.10.2005', '20.10.2006', '14.9.2007', '15.9.2008', '4.9.2009', '6.9.2010', '2.9.2011', '3.9.2012', '9.9.2013', '9.9.2014', '15.9.2015', '13.9.2016', '13.9.2017', '12.9.2018', '19.9.2019', '15.9.2020', '15.9.2021', '14.9.2022', '14.9.2022', '13.9.2023', '13.9.2023']\n",
      "['25.3.2005', '30.3.2006', '24.4.2007', '22.4.2008', '30.4.2009', '30.4.2010', '21.3.2011', '20.3.2012', '19.4.2012', '18.9.2013', '18.9.2014', '30.10.2015', '31.10.2016', '27.10.2017', '31.10.2018', '29.10.2019', '28.10.2020', '27.10.2021', '31.10.2022', '25.10.2023']\n",
      "['27.11.2007', '25.11.2008', '2.11.2009', '2.11.2010', '4.11.2010', '31.10.2011', '31.10.2012', '31.10.2013', '31.10.2014', '2.11.2015', '31.10.2016', '31.10.2017', '30.10.2018', '30.10.2019', '30.10.2020', '29.10.2021', '28.10.2022', '30.10.2023']\n",
      "['24.5.2023', '30.4.2024']\n",
      "['2.5.2016', '25.4.2017', '26.3.2018', '26.3.2018', '25.3.2019', '25.3.2019', '30.3.2020', '23.4.2021', '29.4.2022', '24.4.2023', '25.4.2024']\n",
      "['29.4.2020', '30.4.2021', '16.7.2021', '30.4.2022']\n",
      "['28.5.2007', '12.6.2008', '13.6.2008', '28.4.2009', '29.7.2009', '27.4.2010', '21.3.2011', '20.3.2012', '21.3.2013', '18.3.2014', '23.3.2015', '18.3.2016', '21.3.2017', '20.3.2018', '25.4.2019', '8.4.2020', '15.4.2021', '28.4.2022', '28.4.2022', '27.4.2023', '27.4.2023', '23.4.2024', '23.4.2024']\n",
      "['17.3.2011', '19.3.2012', '21.3.2013', '21.3.2014', '18.3.2015', '18.3.2016', '18.4.2017', '9.4.2018', '10.4.2019', '15.5.2020', '3.4.2021', '31.3.2022', '31.3.2022', '28.4.2023', '28.4.2023', '30.4.2024', '30.4.2024']\n",
      "['30.6.2006', '8.6.2007', '14.6.2008', '30.4.2009', '30.4.2010', '30.4.2011', '30.4.2012', '30.4.2012', '30.4.2013', '30.4.2014', '30.4.2015', '29.4.2016', '21.4.2017', '27.4.2018', '30.4.2019', '30.4.2020', '31.3.2021', '26.4.2022', '26.4.2022', '26.4.2023', '26.4.2023', '26.4.2024', '26.4.2024']\n"
     ]
    },
    {
     "ename": "KeyError",
     "evalue": "'PEPEES SA'",
     "output_type": "error",
     "traceback": [
      "\u001b[0;31m---------------------------------------------------------------------------\u001b[0m",
      "\u001b[0;31mKeyError\u001b[0m                                  Traceback (most recent call last)",
      "Cell \u001b[0;32mIn[16], line 14\u001b[0m\n\u001b[1;32m     12\u001b[0m company_list \u001b[38;5;241m=\u001b[39m pd\u001b[38;5;241m.\u001b[39mread_csv(wig_path)[\u001b[38;5;124m\"\u001b[39m\u001b[38;5;124mNAME\u001b[39m\u001b[38;5;124m\"\u001b[39m]\u001b[38;5;241m.\u001b[39mto_list()\n\u001b[1;32m     13\u001b[0m \u001b[38;5;28;01mfor\u001b[39;00m name \u001b[38;5;129;01min\u001b[39;00m company_list:\n\u001b[0;32m---> 14\u001b[0m     \u001b[38;5;28mprint\u001b[39m(\u001b[38;5;28;43mdict\u001b[39;49m\u001b[43m[\u001b[49m\u001b[43mname\u001b[49m\u001b[43m]\u001b[49m[\u001b[38;5;124m\"\u001b[39m\u001b[38;5;124mRaport roczny\u001b[39m\u001b[38;5;124m\"\u001b[39m])\n",
      "\u001b[0;31mKeyError\u001b[0m: 'PEPEES SA'"
     ]
    }
   ],
   "source": [
    "import pickle\n",
    "import pandas as pd\n",
    "\n",
    "DATE_PATH = \"../database/financial_report/date/datePublicationDict\"\n",
    "\n",
    "with open(DATE_PATH, 'rb') as f:\n",
    "    dict = pickle.load(f)\n",
    "\n",
    "print(dict.keys())\n",
    "\n",
    "for wig_path in wig_list_paths:\n",
    "    company_list = pd.read_csv(wig_path)[\"NAME\"].to_list()\n",
    "    for name in company_list:\n",
    "        print(dict[name][\"Raport roczny\"])\n",
    "\n"
   ]
  }
 ],
 "metadata": {
  "kernelspec": {
   "display_name": "venv",
   "language": "python",
   "name": "python3"
  },
  "language_info": {
   "codemirror_mode": {
    "name": "ipython",
    "version": 3
   },
   "file_extension": ".py",
   "mimetype": "text/x-python",
   "name": "python",
   "nbconvert_exporter": "python",
   "pygments_lexer": "ipython3",
   "version": "3.10.12"
  }
 },
 "nbformat": 4,
 "nbformat_minor": 2
}
